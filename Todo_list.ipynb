{
  "cells": [
    {
      "cell_type": "markdown",
      "metadata": {
        "id": "view-in-github",
        "colab_type": "text"
      },
      "source": [
        "<a href=\"https://colab.research.google.com/github/Sunilangajalaa/codsoft/blob/main/Todo_list.ipynb\" target=\"_parent\"><img src=\"https://colab.research.google.com/assets/colab-badge.svg\" alt=\"Open In Colab\"/></a>"
      ]
    },
    {
      "cell_type": "code",
      "execution_count": null,
      "metadata": {
        "colab": {
          "background_save": true,
          "base_uri": "https://localhost:8080/"
        },
        "id": "50pstSq-MD47",
        "outputId": "7698b924-3499-4174-9385-c1d3560147bc"
      },
      "outputs": [
        {
          "name": "stdout",
          "output_type": "stream",
          "text": [
            "\n",
            "===== To-Do List =====\n",
            "1. Add Task\n",
            "2. Show Tasks\n",
            "3. Mark Task as Done\n",
            "4. Exit\n",
            "Invalid task number.\n",
            "\n",
            "===== To-Do List =====\n",
            "1. Add Task\n",
            "2. Show Tasks\n",
            "3. Mark Task as Done\n",
            "4. Exit\n",
            "\n"
          ]
        }
      ],
      "source": [
        "def main():\n",
        "    tasks = []\n",
        "\n",
        "    while True:\n",
        "        print(\"\\n===== To-Do List =====\")\n",
        "        print(\"1. Add Task\")\n",
        "        print(\"2. Show Tasks\")\n",
        "        print(\"3. Mark Task as Done\")\n",
        "        print(\"4. Exit\")\n",
        "\n",
        "        choice = input(\"Enter your choice: \")\n",
        "\n",
        "        if choice == '1':\n",
        "            print()\n",
        "            n_tasks = int(input(\"How many tasks do you want to add: \"))\n",
        "\n",
        "            for i in range(n_tasks):\n",
        "                task = input(\"Enter the task: \")\n",
        "                tasks.append({\"task\": task, \"done\": False})\n",
        "                print(\"Task added!\")\n",
        "\n",
        "        elif choice == '2':\n",
        "            print(\"\\nTasks:\")\n",
        "            if not tasks:\n",
        "                print(\"No tasks in the list.\")\n",
        "            else:\n",
        "                for index, task in enumerate(tasks):\n",
        "                    status = \"Done\" if task[\"done\"] else \"Not Done\"\n",
        "                    print(f\"{index + 1}. {task['task']} - {status}\")\n",
        "\n",
        "        elif choice == '3':\n",
        "            task_index = int(input(\"Enter the task number to mark as done: \")) - 1\n",
        "            if 0 <= task_index < len(tasks):\n",
        "                tasks[task_index][\"done\"] = True\n",
        "                print(\"Task marked as done!\")\n",
        "            else:\n",
        "                print(\"Invalid task number.\")\n",
        "\n",
        "        elif choice == '4':\n",
        "            print(\"Exiting the To-Do List.\")\n",
        "            break\n",
        "\n",
        "        else:\n",
        "            print(\"Invalid choice. Please try again.\")\n",
        "\n",
        "if __name__ == \"__main__\":\n",
        "  main()"
      ]
    }
  ],
  "metadata": {
    "colab": {
      "provenance": [],
      "authorship_tag": "ABX9TyN1V9Y0nRUQ9qNJxHRb6A7k",
      "include_colab_link": true
    },
    "kernelspec": {
      "display_name": "Python 3",
      "name": "python3"
    },
    "language_info": {
      "name": "python"
    }
  },
  "nbformat": 4,
  "nbformat_minor": 0
}