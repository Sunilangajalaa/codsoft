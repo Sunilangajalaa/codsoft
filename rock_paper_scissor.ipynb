{
  "nbformat": 4,
  "nbformat_minor": 0,
  "metadata": {
    "colab": {
      "provenance": [],
      "authorship_tag": "ABX9TyN30ATYnOp+KZcefvIp/lR/",
      "include_colab_link": true
    },
    "kernelspec": {
      "name": "python3",
      "display_name": "Python 3"
    },
    "language_info": {
      "name": "python"
    }
  },
  "cells": [
    {
      "cell_type": "markdown",
      "metadata": {
        "id": "view-in-github",
        "colab_type": "text"
      },
      "source": [
        "<a href=\"https://colab.research.google.com/github/Sunilangajalaa/codsoft/blob/main/rock_paper_scissor.ipynb\" target=\"_parent\"><img src=\"https://colab.research.google.com/assets/colab-badge.svg\" alt=\"Open In Colab\"/></a>"
      ]
    },
    {
      "cell_type": "code",
      "execution_count": null,
      "metadata": {
        "colab": {
          "base_uri": "https://localhost:8080/"
        },
        "id": "KzdqgvgyMe1J",
        "outputId": "28795ecc-6872-4c6a-e965-9262f6b14a8a"
      },
      "outputs": [
        {
          "output_type": "stream",
          "name": "stdout",
          "text": [
            "Enter your choice (rock, paper, scissors): rock\n",
            "\n",
            "You chose: rock\n",
            "Computer chose: scissors\n",
            "Result: You win!\n",
            "\n",
            "Score: You 1 - Computer 0\n",
            "\n",
            "Do you want to play again? (yes/no): paper\n",
            "Invalid input. Please enter 'yes' or 'no'.\n",
            "Do you want to play again? (yes/no): rock\n",
            "Invalid input. Please enter 'yes' or 'no'.\n",
            "Do you want to play again? (yes/no): no\n",
            "Thanks for playing!\n"
          ]
        }
      ],
      "source": [
        "import random\n",
        "\n",
        "def get_computer_choice():\n",
        "    return random.choice(['rock', 'paper', 'scissors'])\n",
        "\n",
        "def get_user_choice():\n",
        "    while True:\n",
        "        user_input = input(\"Enter your choice (rock, paper, scissors): \").lower()\n",
        "        if user_input in ['rock', 'paper', 'scissors']:\n",
        "            return user_input\n",
        "        print(\"Invalid choice. Please try again.\")\n",
        "\n",
        "def determine_winner(user_choice, computer_choice):\n",
        "    if user_choice == computer_choice:\n",
        "        return \"It's a tie!\"\n",
        "    elif (user_choice == 'rock' and computer_choice == 'scissors') or \\\n",
        "         (user_choice == 'scissors' and computer_choice == 'paper') or \\\n",
        "         (user_choice == 'paper' and computer_choice == 'rock'):\n",
        "        return \"You win!\"\n",
        "    else:\n",
        "        return \"Computer wins!\"\n",
        "\n",
        "def display_results(user_choice, computer_choice, result):\n",
        "    print(f\"\\nYou chose: {user_choice}\")\n",
        "    print(f\"Computer chose: {computer_choice}\")\n",
        "    print(f\"Result: {result}\\n\")\n",
        "\n",
        "def play_again():\n",
        "    while True:\n",
        "        again = input(\"Do you want to play again? (yes/no): \").lower()\n",
        "        if again in ['yes', 'no']:\n",
        "            return again == 'yes'\n",
        "        print(\"Invalid input. Please enter 'yes' or 'no'.\")\n",
        "\n",
        "def play_game():\n",
        "    user_score = 0\n",
        "    computer_score = 0\n",
        "\n",
        "    while True:\n",
        "        user_choice = get_user_choice()\n",
        "        computer_choice = get_computer_choice()\n",
        "        result = determine_winner(user_choice, computer_choice)\n",
        "\n",
        "        display_results(user_choice, computer_choice, result)\n",
        "\n",
        "        if result == \"You win!\":\n",
        "            user_score += 1\n",
        "        elif result == \"Computer wins!\":\n",
        "            computer_score += 1\n",
        "\n",
        "        print(f\"Score: You {user_score} - Computer {computer_score}\\n\")\n",
        "\n",
        "        if not play_again():\n",
        "            print(\"Thanks for playing!\")\n",
        "            break\n",
        "\n",
        "if __name__ == \"__main__\":\n",
        "    play_game()\n",
        "\n"
      ]
    }
  ]
}